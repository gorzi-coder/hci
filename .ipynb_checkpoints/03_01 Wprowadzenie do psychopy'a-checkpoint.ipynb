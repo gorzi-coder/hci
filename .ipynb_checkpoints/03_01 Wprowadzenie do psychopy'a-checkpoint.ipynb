{
 "cells": [
  {
   "cell_type": "markdown",
   "metadata": {},
   "source": [
    "# Wprowadzenie do *PsychoPy'a*"
   ]
  },
  {
   "cell_type": "markdown",
   "metadata": {},
   "source": [
    "PsychoPy to pakiet oprogramowania typu *open source* napisany w języku Python, przeznaczony przede wszystkim do wykorzystania w neuronauce i eksperymentach psychologicznych.\n",
    "\n",
    "Aby rozpocząć prace należy zaimportować paczkę:"
   ]
  },
  {
   "cell_type": "code",
   "execution_count": 3,
   "metadata": {},
   "outputs": [],
   "source": [
    "from psychopy import visual, event, core"
   ]
  },
  {
   "cell_type": "markdown",
   "metadata": {},
   "source": [
    "## 1. Okna\n",
    "\n",
    "Aby stworzyć okno:"
   ]
  },
  {
   "cell_type": "code",
   "execution_count": 6,
   "metadata": {},
   "outputs": [],
   "source": [
    "win = visual.Window(\n",
    "    size=[400, 500],\n",
    "    units=\"pix\",\n",
    "    color = \"green\",\n",
    "    fullscr=False)"
   ]
  },
  {
   "cell_type": "markdown",
   "metadata": {},
   "source": [
    "Aby zamknąć okno: "
   ]
  },
  {
   "cell_type": "code",
   "execution_count": 7,
   "metadata": {},
   "outputs": [
    {
     "name": "stdout",
     "output_type": "stream",
     "text": [
      "691.7703 \tWARNING \tMonitor specification not found. Creating a temporary one...\n"
     ]
    }
   ],
   "source": [
    "win.close()"
   ]
  },
  {
   "cell_type": "markdown",
   "metadata": {},
   "source": [
    "Jak zmienić kolor okna? "
   ]
  },
  {
   "cell_type": "markdown",
   "metadata": {},
   "source": [
    "## 2. Zbieranie danych z klawiatury"
   ]
  },
  {
   "cell_type": "code",
   "execution_count": null,
   "metadata": {},
   "outputs": [],
   "source": [
    "win = visual.Window(\n",
    "    size=[400, 500],\n",
    "    units=\"pix\",\n",
    "    fullscr=False)\n",
    "\n",
    "\n",
    "while True:\n",
    "    key_pressed = event.getKeys()\n",
    "    if 'escape' in key_pressed:\n",
    "        win.close()\n",
    "        break\n",
    "        print(key_pressed)"
   ]
  },
  {
   "cell_type": "code",
   "execution_count": null,
   "metadata": {},
   "outputs": [],
   "source": [
    "win.close()"
   ]
  },
  {
   "cell_type": "markdown",
   "metadata": {},
   "source": [
    "## Ćwiczenie 1 \n",
    "\n",
    "Stwórz kod, który będzie tworzył okno oraz zamykał je po naciśnięciu klawisza 'escape'."
   ]
  },
  {
   "cell_type": "code",
   "execution_count": null,
   "metadata": {},
   "outputs": [],
   "source": []
  },
  {
   "cell_type": "code",
   "execution_count": null,
   "metadata": {},
   "outputs": [],
   "source": []
  },
  {
   "cell_type": "code",
   "execution_count": null,
   "metadata": {},
   "outputs": [],
   "source": []
  },
  {
   "cell_type": "markdown",
   "metadata": {},
   "source": [
    "## 3. Kwadraty"
   ]
  },
  {
   "cell_type": "code",
   "execution_count": 14,
   "metadata": {},
   "outputs": [
    {
     "data": {
      "text/plain": [
       "1659.3134184750088"
      ]
     },
     "execution_count": 14,
     "metadata": {},
     "output_type": "execute_result"
    }
   ],
   "source": [
    "win = visual.Window(\n",
    "    size=[400, 500],\n",
    "    units=\"pix\",\n",
    "    fullscr=False)\n",
    "\n",
    "rect = visual.Rect(win,\n",
    "                   width=30,\n",
    "                   height=30,\n",
    "                   pos=(0, 20),\n",
    "                   fillColor=\"#339933\"\n",
    "                  )\n",
    "rect.draw()\n",
    "win.flip()"
   ]
  },
  {
   "cell_type": "code",
   "execution_count": 15,
   "metadata": {},
   "outputs": [
    {
     "name": "stdout",
     "output_type": "stream",
     "text": [
      "1657.7047 \tWARNING \tMonitor specification not found. Creating a temporary one...\n"
     ]
    }
   ],
   "source": [
    "win.close()"
   ]
  },
  {
   "cell_type": "code",
   "execution_count": null,
   "metadata": {},
   "outputs": [],
   "source": []
  },
  {
   "cell_type": "markdown",
   "metadata": {},
   "source": [
    "## Ćwiczenie 2. \n",
    "\n",
    "Bazując na podanej funkcji i pętli *while True* stwórz program, który będzie przesuwał kwadrat w górę po naciśnięciu spacji.  "
   ]
  },
  {
   "cell_type": "code",
   "execution_count": 17,
   "metadata": {},
   "outputs": [],
   "source": [
    "def create_rect(position_y):\n",
    "    rect = visual.Rect(win,\n",
    "                   width=30,\n",
    "                   height=30,\n",
    "                   pos=(0, position_y),\n",
    "                   fillColor=\"#339933\")\n",
    "    return rect "
   ]
  },
  {
   "cell_type": "code",
   "execution_count": 1,
   "metadata": {},
   "outputs": [],
   "source": [
    "# Stwórz okno\n",
    "\n",
    "# Zdefiniuj zmienną z początkową lokacją kwadratu\n",
    "\n",
    "\n",
    "# Stwórz pętlę while True wykonującą zadanie\n"
   ]
  },
  {
   "cell_type": "code",
   "execution_count": null,
   "metadata": {},
   "outputs": [],
   "source": [
    "win.close()"
   ]
  },
  {
   "cell_type": "code",
   "execution_count": null,
   "metadata": {},
   "outputs": [],
   "source": []
  }
 ],
 "metadata": {
  "kernelspec": {
   "display_name": "Python 3",
   "language": "python",
   "name": "python3"
  },
  "language_info": {
   "codemirror_mode": {
    "name": "ipython",
    "version": 3
   },
   "file_extension": ".py",
   "mimetype": "text/x-python",
   "name": "python",
   "nbconvert_exporter": "python",
   "pygments_lexer": "ipython3",
   "version": "3.8.0"
  }
 },
 "nbformat": 4,
 "nbformat_minor": 2
}
