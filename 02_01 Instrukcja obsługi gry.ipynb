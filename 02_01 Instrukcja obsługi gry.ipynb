{
 "cells": [
  {
   "cell_type": "markdown",
   "metadata": {},
   "source": [
    "# Aby uruchomić grę należy: \n",
    "\n",
    "1. Pobrać repozyturium i w konsoli przenieść się do folderu *OpenBCI*\n",
    "2. Umieścić dongle'a dołączonego do płytki Ganglion w porcie USB. \n",
    "3. Podmienić adres mac używanego Ganglionu (zmienna *mac_adress*) w pliku *dino.py*.\n",
    "4. Zamontować elektrody - jedna na czole do złącza nr 1, dwie na uszach do złącz REF i D_G.\n",
    "5. Włączyć płytkę Gangion. \n",
    "6. Włączyć grę komendą *python3 dino.py*. \n",
    "7. *Opcjonalnie:* Dobrze się bawić skacząc dinozaurem przy pomocy mrugnięć. "
   ]
  },
  {
   "cell_type": "code",
   "execution_count": null,
   "metadata": {},
   "outputs": [],
   "source": []
  }
 ],
 "metadata": {
  "kernelspec": {
   "display_name": "Python 3",
   "language": "python",
   "name": "python3"
  },
  "language_info": {
   "codemirror_mode": {
    "name": "ipython",
    "version": 3
   },
   "file_extension": ".py",
   "mimetype": "text/x-python",
   "name": "python",
   "nbconvert_exporter": "python",
   "pygments_lexer": "ipython3",
   "version": "3.8.0"
  }
 },
 "nbformat": 4,
 "nbformat_minor": 2
}
